{
 "cells": [
  {
   "cell_type": "code",
   "execution_count": 4,
   "id": "b8b8e3e5",
   "metadata": {},
   "outputs": [
    {
     "name": "stdout",
     "output_type": "stream",
     "text": [
      "Dataset feature names: ['CRIM' 'ZN' 'INDUS' 'CHAS' 'NOX' 'RM' 'AGE' 'DIS' 'RAD' 'TAX' 'PTRATIO'\n",
      " 'B' 'LSTAT']\n",
      "Dataset feature size:(506, 13)\n",
      "Dataset target size: (506,)\n"
     ]
    }
   ],
   "source": [
    "from sklearn import datasets\n",
    "import warnings \n",
    "warnings.filterwarnings('ignore')\n",
    "\n",
    "boston = datasets.load_boston()\n",
    "X_boston, Y_boston = boston.data, boston.target\n",
    "print('Dataset feature names: '+str(boston.feature_names))\n",
    "print('Dataset feature size:' +str(boston.data.shape))\n",
    "print('Dataset target size: '+ str(boston.target.shape))"
   ]
  },
  {
   "cell_type": "code",
   "execution_count": 5,
   "id": "e763320b",
   "metadata": {},
   "outputs": [],
   "source": [
    "from sklearn.linear_model import LinearRegression\n",
    "from sklearn.neighbors import KNeighborsRegressor\n",
    "from sklearn.model_selection import GridSearchCV\n",
    "from sklearn.tree import DecisionTreeRegressor\n",
    "from sklearn.metrics import r2_score"
   ]
  },
  {
   "cell_type": "code",
   "execution_count": 6,
   "id": "6d9455f6",
   "metadata": {},
   "outputs": [
    {
     "name": "stdout",
     "output_type": "stream",
     "text": [
      "Train/Test Sets Size:  (404, 13) (102, 13) (404,) (102,)\n"
     ]
    }
   ],
   "source": [
    "from sklearn.model_selection import train_test_split\n",
    "\n",
    "X_train, X_test, Y_train, Y_test = train_test_split(X_boston, Y_boston,\n",
    "                                                   train_size=0.80, test_size=0.20, random_state=123)\n",
    "print('Train/Test Sets Size: ',X_train.shape, X_test.shape, Y_train.shape, Y_test.shape)"
   ]
  },
  {
   "cell_type": "code",
   "execution_count": 7,
   "id": "55ddd65f",
   "metadata": {},
   "outputs": [],
   "source": [
    "lr = LinearRegression()\n",
    "dt = DecisionTreeRegressor()\n",
    "knn = KNeighborsRegressor()"
   ]
  },
  {
   "cell_type": "code",
   "execution_count": 10,
   "id": "81479fb2",
   "metadata": {},
   "outputs": [
    {
     "data": {
      "text/plain": [
       "KNeighborsRegressor()"
      ]
     },
     "execution_count": 10,
     "metadata": {},
     "output_type": "execute_result"
    }
   ],
   "source": [
    "lr.fit(X_train,Y_train)\n",
    "dt.fit(X_train,Y_train)\n",
    "knn.fit(X_train,Y_train)"
   ]
  },
  {
   "cell_type": "code",
   "execution_count": 12,
   "id": "b930197a",
   "metadata": {},
   "outputs": [],
   "source": [
    "y_pred1 = lr.predict(X_test)\n",
    "y_pred2 = dt.predict(X_test)\n",
    "y_pred3 = knn.predict(X_test)"
   ]
  },
  {
   "cell_type": "code",
   "execution_count": 15,
   "id": "fcc3adfe",
   "metadata": {},
   "outputs": [
    {
     "name": "stdout",
     "output_type": "stream",
     "text": [
      "R2 Score for LR 0.6592466510354094\n",
      "R2 Score for DT 0.42280331344910704\n",
      "R2 Score for KNN 0.5475962186976784\n"
     ]
    }
   ],
   "source": [
    "print('R2 Score for LR',r2_score(Y_test,y_pred1))\n",
    "print('R2 Score for DT',r2_score(Y_test,y_pred2))\n",
    "print('R2 Score for KNN',r2_score(Y_test,y_pred3))"
   ]
  },
  {
   "cell_type": "code",
   "execution_count": 16,
   "id": "eaf74143",
   "metadata": {},
   "outputs": [
    {
     "data": {
      "text/plain": [
       "BaggingRegressor(random_state=1)"
      ]
     },
     "execution_count": 16,
     "metadata": {},
     "output_type": "execute_result"
    }
   ],
   "source": [
    "from sklearn.ensemble import BaggingRegressor\n",
    "\n",
    "bag_regressor = BaggingRegressor(random_state=1)\n",
    "bag_regressor.fit(X_train,Y_train)"
   ]
  },
  {
   "cell_type": "code",
   "execution_count": 17,
   "id": "38b6d316",
   "metadata": {},
   "outputs": [
    {
     "name": "stdout",
     "output_type": "stream",
     "text": [
      "Training Coefficient of R2: 0.980\n",
      "Test Coessicient of R2: 0.818\n"
     ]
    }
   ],
   "source": [
    "Y_preds  = bag_regressor.predict(X_test)\n",
    "\n",
    "print('Training Coefficient of R2: %.3f'%bag_regressor.score(X_train,Y_train))\n",
    "print('Test Coessicient of R2: %.3f'%bag_regressor.score(X_test,Y_test))"
   ]
  }
 ],
 "metadata": {
  "kernelspec": {
   "display_name": "Python 3 (ipykernel)",
   "language": "python",
   "name": "python3"
  },
  "language_info": {
   "codemirror_mode": {
    "name": "ipython",
    "version": 3
   },
   "file_extension": ".py",
   "mimetype": "text/x-python",
   "name": "python",
   "nbconvert_exporter": "python",
   "pygments_lexer": "ipython3",
   "version": "3.9.13"
  }
 },
 "nbformat": 4,
 "nbformat_minor": 5
}
