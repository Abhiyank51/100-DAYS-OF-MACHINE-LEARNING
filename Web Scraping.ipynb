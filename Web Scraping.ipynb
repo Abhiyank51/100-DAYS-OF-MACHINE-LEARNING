{
 "cells": [
  {
   "cell_type": "code",
   "execution_count": 2,
   "id": "6f72e523",
   "metadata": {},
   "outputs": [],
   "source": [
    "import pandas as pd\n",
    "import requests\n",
    "from bs4 import BeautifulSoup # webscraping library"
   ]
  },
  {
   "cell_type": "code",
   "execution_count": 5,
   "id": "168ddfeb",
   "metadata": {},
   "outputs": [],
   "source": [
    "# to parse the security of website we use this header code\n",
    "headers={'User-Agent':'Mozilla/5.0 (Windows NT 6.3; Win 64 ; x64) Apple WeKit /537.36(KHTML , like Gecko) Chrome/80.0.3987.162 Safari/537.36'}\n",
    "webpage = requests.get('https://www.ambitionbox.com/list-of-companies?page=1',headers=headers).text"
   ]
  },
  {
   "cell_type": "code",
   "execution_count": 6,
   "id": "930afa23",
   "metadata": {},
   "outputs": [],
   "source": [
    "soup = BeautifulSoup(webpage,'lxml')"
   ]
  },
  {
   "cell_type": "code",
   "execution_count": 13,
   "id": "522f7102",
   "metadata": {},
   "outputs": [
    {
     "data": {
      "text/plain": [
       "24"
      ]
     },
     "execution_count": 13,
     "metadata": {},
     "output_type": "execute_result"
    }
   ],
   "source": [
    "len(soup.find_all('h2'))"
   ]
  },
  {
   "cell_type": "code",
   "execution_count": 15,
   "id": "dc51fbae",
   "metadata": {},
   "outputs": [
    {
     "name": "stdout",
     "output_type": "stream",
     "text": [
      "TCS\n",
      "Accenture\n",
      "Cognizant\n",
      "Wipro\n",
      "Capgemini\n",
      "HDFC Bank\n",
      "ICICI Bank\n",
      "Infosys\n",
      "HCLTech\n",
      "Tech Mahindra\n",
      "Genpact\n",
      "Axis Bank\n",
      "Teleperformance\n",
      "Concentrix Corporation\n",
      "Jio\n",
      "Amazon\n",
      "IBM\n",
      "Reliance Retail\n",
      "HDB Financial Services\n",
      "Larsen & Toubro Limited\n",
      "Companies by  Industry\n",
      "Companies by  Locations\n",
      "Companies by  Type\n",
      "Companies by  Badges\n"
     ]
    }
   ],
   "source": [
    "# strip is used to remove all the \\n and \\t characters that provided space \n",
    "for i in soup.find_all('h2'):\n",
    "    print(i.text.strip())"
   ]
  },
  {
   "cell_type": "code",
   "execution_count": 25,
   "id": "383958b5",
   "metadata": {},
   "outputs": [],
   "source": [
    "company  = soup.find_all('div',class_='companyCardWrapper')"
   ]
  },
  {
   "cell_type": "code",
   "execution_count": 26,
   "id": "1e37f3c4",
   "metadata": {},
   "outputs": [
    {
     "data": {
      "text/plain": [
       "20"
      ]
     },
     "execution_count": 26,
     "metadata": {},
     "output_type": "execute_result"
    }
   ],
   "source": [
    "len(company)"
   ]
  },
  {
   "cell_type": "code",
   "execution_count": 38,
   "id": "f406bef1",
   "metadata": {},
   "outputs": [
    {
     "ename": "KeyError",
     "evalue": "0",
     "output_type": "error",
     "traceback": [
      "\u001b[1;31m---------------------------------------------------------------------------\u001b[0m",
      "\u001b[1;31mKeyError\u001b[0m                                  Traceback (most recent call last)",
      "\u001b[1;32m~\\AppData\\Local\\Temp\\ipykernel_11500\\3277902144.py\u001b[0m in \u001b[0;36m<module>\u001b[1;34m\u001b[0m\n\u001b[0;32m      4\u001b[0m \u001b[1;31m#     print(i.find('h2'))\u001b[0m\u001b[1;33m\u001b[0m\u001b[1;33m\u001b[0m\u001b[0m\n\u001b[0;32m      5\u001b[0m     \u001b[0mname\u001b[0m\u001b[1;33m.\u001b[0m\u001b[0mappend\u001b[0m\u001b[1;33m(\u001b[0m\u001b[0mi\u001b[0m\u001b[1;33m.\u001b[0m\u001b[0mfind\u001b[0m\u001b[1;33m(\u001b[0m\u001b[1;34m'h2'\u001b[0m\u001b[1;33m)\u001b[0m\u001b[1;33m.\u001b[0m\u001b[0mtext\u001b[0m\u001b[1;33m.\u001b[0m\u001b[0mstrip\u001b[0m\u001b[1;33m(\u001b[0m\u001b[1;33m)\u001b[0m\u001b[1;33m)\u001b[0m\u001b[1;33m\u001b[0m\u001b[1;33m\u001b[0m\u001b[0m\n\u001b[1;32m----> 6\u001b[1;33m     \u001b[0mrating\u001b[0m\u001b[1;33m.\u001b[0m\u001b[0mappend\u001b[0m\u001b[1;33m(\u001b[0m\u001b[0mi\u001b[0m\u001b[1;33m.\u001b[0m\u001b[0mfind\u001b[0m\u001b[1;33m(\u001b[0m\u001b[1;34m'div'\u001b[0m\u001b[1;33m,\u001b[0m\u001b[0mclass_\u001b[0m\u001b[1;33m=\u001b[0m\u001b[1;34m'companyCardWrapper__companyDetails'\u001b[0m\u001b[1;33m)\u001b[0m\u001b[1;33m[\u001b[0m\u001b[1;36m0\u001b[0m\u001b[1;33m]\u001b[0m\u001b[1;33m.\u001b[0m\u001b[0mtext\u001b[0m\u001b[1;33m.\u001b[0m\u001b[0mstrip\u001b[0m\u001b[1;33m(\u001b[0m\u001b[1;33m)\u001b[0m\u001b[1;33m)\u001b[0m\u001b[1;33m\u001b[0m\u001b[1;33m\u001b[0m\u001b[0m\n\u001b[0m",
      "\u001b[1;32mC:\\ProgramData\\Anaconda3\\lib\\site-packages\\bs4\\element.py\u001b[0m in \u001b[0;36m__getitem__\u001b[1;34m(self, key)\u001b[0m\n\u001b[0;32m   1517\u001b[0m         \"\"\"tag[key] returns the value of the 'key' attribute for the Tag,\n\u001b[0;32m   1518\u001b[0m         and throws an exception if it's not there.\"\"\"\n\u001b[1;32m-> 1519\u001b[1;33m         \u001b[1;32mreturn\u001b[0m \u001b[0mself\u001b[0m\u001b[1;33m.\u001b[0m\u001b[0mattrs\u001b[0m\u001b[1;33m[\u001b[0m\u001b[0mkey\u001b[0m\u001b[1;33m]\u001b[0m\u001b[1;33m\u001b[0m\u001b[1;33m\u001b[0m\u001b[0m\n\u001b[0m\u001b[0;32m   1520\u001b[0m \u001b[1;33m\u001b[0m\u001b[0m\n\u001b[0;32m   1521\u001b[0m     \u001b[1;32mdef\u001b[0m \u001b[0m__iter__\u001b[0m\u001b[1;33m(\u001b[0m\u001b[0mself\u001b[0m\u001b[1;33m)\u001b[0m\u001b[1;33m:\u001b[0m\u001b[1;33m\u001b[0m\u001b[1;33m\u001b[0m\u001b[0m\n",
      "\u001b[1;31mKeyError\u001b[0m: 0"
     ]
    }
   ],
   "source": [
    "name=[]\n",
    "rating=[]\n",
    "reviews=[]\n",
    "ctype=[]\n",
    "hq=[]\n",
    "how_old=[]\n",
    "no_of_employee=[]\n",
    "\n",
    "for i in company:\n",
    "\n",
    "  name.append(i.find('h2').text.strip())\n",
    "  rating.append(i.find('p',class_='rating').text.strip())\n",
    "  reviews.append(i.find('a' , class_='review-count').text.strip())\n",
    "  ctype.append(i.find_all('p',class_='infoEntity')[0].text.strip())\n",
    "  hq.append(i.find_all('p',class_='infoEntity')[1].text.strip())\n",
    "  how_old.append(i.find_all('p',class_='infoEntity')[2].text.strip())\n",
    "  no_of_employee.append(i.find_all('p',class_='infoEntity')[3].text.strip())\n",
    "\n",
    "df=pd.DataFrame({'name':name,\n",
    "   'rating':rating,\n",
    "   'reviews':reviews,\n",
    "   'company_type':ctype,\n",
    "   'Head_Quarters':hq,\n",
    "   'Company_Age':how_old,\n",
    "   'No_of_Employee':no_of_employee,\n",
    "   })\n",
    "  \n"
   ]
  },
  {
   "cell_type": "code",
   "execution_count": 32,
   "id": "ffb8db2f",
   "metadata": {},
   "outputs": [
    {
     "data": {
      "text/plain": [
       "['TCS',\n",
       " 'Accenture',\n",
       " 'Cognizant',\n",
       " 'Wipro',\n",
       " 'Capgemini',\n",
       " 'HDFC Bank',\n",
       " 'ICICI Bank',\n",
       " 'Infosys',\n",
       " 'HCLTech',\n",
       " 'Tech Mahindra',\n",
       " 'Genpact',\n",
       " 'Axis Bank',\n",
       " 'Teleperformance',\n",
       " 'Concentrix Corporation',\n",
       " 'Jio',\n",
       " 'Amazon',\n",
       " 'IBM',\n",
       " 'Reliance Retail',\n",
       " 'HDB Financial Services',\n",
       " 'Larsen & Toubro Limited']"
      ]
     },
     "execution_count": 32,
     "metadata": {},
     "output_type": "execute_result"
    }
   ],
   "source": [
    "name"
   ]
  },
  {
   "cell_type": "code",
   "execution_count": null,
   "id": "8bb0cc54",
   "metadata": {},
   "outputs": [],
   "source": []
  },
  {
   "cell_type": "code",
   "execution_count": null,
   "id": "eff30c24",
   "metadata": {},
   "outputs": [],
   "source": []
  },
  {
   "cell_type": "code",
   "execution_count": null,
   "id": "cb253708",
   "metadata": {},
   "outputs": [],
   "source": []
  },
  {
   "cell_type": "code",
   "execution_count": null,
   "id": "9075c8a9",
   "metadata": {},
   "outputs": [],
   "source": []
  },
  {
   "cell_type": "code",
   "execution_count": null,
   "id": "9a89ade6",
   "metadata": {},
   "outputs": [],
   "source": []
  },
  {
   "cell_type": "code",
   "execution_count": null,
   "id": "9771e1a1",
   "metadata": {},
   "outputs": [],
   "source": []
  }
 ],
 "metadata": {
  "kernelspec": {
   "display_name": "Python 3 (ipykernel)",
   "language": "python",
   "name": "python3"
  },
  "language_info": {
   "codemirror_mode": {
    "name": "ipython",
    "version": 3
   },
   "file_extension": ".py",
   "mimetype": "text/x-python",
   "name": "python",
   "nbconvert_exporter": "python",
   "pygments_lexer": "ipython3",
   "version": "3.9.13"
  }
 },
 "nbformat": 4,
 "nbformat_minor": 5
}
