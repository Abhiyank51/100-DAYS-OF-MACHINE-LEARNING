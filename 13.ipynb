{
 "cells": [
  {
   "cell_type": "code",
   "execution_count": 1,
   "id": "751387b1",
   "metadata": {},
   "outputs": [],
   "source": [
    "import numpy as np\n",
    "import pandas as pd"
   ]
  },
  {
   "cell_type": "code",
   "execution_count": 2,
   "id": "238edc7d",
   "metadata": {},
   "outputs": [],
   "source": [
    "df = pd.read_csv(\"13.csv\")"
   ]
  },
  {
   "cell_type": "code",
   "execution_count": 3,
   "id": "88506c80",
   "metadata": {},
   "outputs": [
    {
     "data": {
      "text/html": [
       "<div>\n",
       "<style scoped>\n",
       "    .dataframe tbody tr th:only-of-type {\n",
       "        vertical-align: middle;\n",
       "    }\n",
       "\n",
       "    .dataframe tbody tr th {\n",
       "        vertical-align: top;\n",
       "    }\n",
       "\n",
       "    .dataframe thead th {\n",
       "        text-align: right;\n",
       "    }\n",
       "</style>\n",
       "<table border=\"1\" class=\"dataframe\">\n",
       "  <thead>\n",
       "    <tr style=\"text-align: right;\">\n",
       "      <th></th>\n",
       "      <th>Unnamed: 0</th>\n",
       "      <th>cgpa</th>\n",
       "      <th>iq</th>\n",
       "      <th>placement</th>\n",
       "    </tr>\n",
       "  </thead>\n",
       "  <tbody>\n",
       "    <tr>\n",
       "      <th>0</th>\n",
       "      <td>0</td>\n",
       "      <td>6.8</td>\n",
       "      <td>123.0</td>\n",
       "      <td>1</td>\n",
       "    </tr>\n",
       "    <tr>\n",
       "      <th>1</th>\n",
       "      <td>1</td>\n",
       "      <td>5.9</td>\n",
       "      <td>106.0</td>\n",
       "      <td>0</td>\n",
       "    </tr>\n",
       "    <tr>\n",
       "      <th>2</th>\n",
       "      <td>2</td>\n",
       "      <td>5.3</td>\n",
       "      <td>121.0</td>\n",
       "      <td>0</td>\n",
       "    </tr>\n",
       "    <tr>\n",
       "      <th>3</th>\n",
       "      <td>3</td>\n",
       "      <td>7.4</td>\n",
       "      <td>132.0</td>\n",
       "      <td>1</td>\n",
       "    </tr>\n",
       "    <tr>\n",
       "      <th>4</th>\n",
       "      <td>4</td>\n",
       "      <td>5.8</td>\n",
       "      <td>142.0</td>\n",
       "      <td>0</td>\n",
       "    </tr>\n",
       "  </tbody>\n",
       "</table>\n",
       "</div>"
      ],
      "text/plain": [
       "   Unnamed: 0  cgpa     iq  placement\n",
       "0           0   6.8  123.0          1\n",
       "1           1   5.9  106.0          0\n",
       "2           2   5.3  121.0          0\n",
       "3           3   7.4  132.0          1\n",
       "4           4   5.8  142.0          0"
      ]
     },
     "execution_count": 3,
     "metadata": {},
     "output_type": "execute_result"
    }
   ],
   "source": [
    "df.head()"
   ]
  },
  {
   "cell_type": "code",
   "execution_count": 4,
   "id": "4d254c98",
   "metadata": {},
   "outputs": [
    {
     "data": {
      "text/plain": [
       "(100, 4)"
      ]
     },
     "execution_count": 4,
     "metadata": {},
     "output_type": "execute_result"
    }
   ],
   "source": [
    "# check shape of data\n",
    "df.shape"
   ]
  },
  {
   "cell_type": "code",
   "execution_count": 5,
   "id": "854e05a9",
   "metadata": {},
   "outputs": [
    {
     "name": "stdout",
     "output_type": "stream",
     "text": [
      "<class 'pandas.core.frame.DataFrame'>\n",
      "RangeIndex: 100 entries, 0 to 99\n",
      "Data columns (total 4 columns):\n",
      " #   Column      Non-Null Count  Dtype  \n",
      "---  ------      --------------  -----  \n",
      " 0   Unnamed: 0  100 non-null    int64  \n",
      " 1   cgpa        100 non-null    float64\n",
      " 2   iq          100 non-null    float64\n",
      " 3   placement   100 non-null    int64  \n",
      "dtypes: float64(2), int64(2)\n",
      "memory usage: 3.2 KB\n"
     ]
    }
   ],
   "source": [
    "# Check if null value is present or not \n",
    "df.info()\n",
    "\n",
    "# As we see their is no null value"
   ]
  },
  {
   "cell_type": "code",
   "execution_count": 6,
   "id": "78d76f68",
   "metadata": {},
   "outputs": [],
   "source": [
    "# Steps to follow on making the model\n",
    "\n",
    "# 0. Preprocess + EDA + Feature Selection\n",
    "# 1. Extract input and output cols\n",
    "# 2. Scale the values\n",
    "# 3. Train test split\n",
    "# 4. Train the model\n",
    "# 5. Evaluate the model/model selection\n",
    "# 6. Deploy the model"
   ]
  },
  {
   "cell_type": "code",
   "execution_count": 7,
   "id": "aa7072ca",
   "metadata": {},
   "outputs": [],
   "source": [
    "# PRE PROCESSING STAGE\n",
    "\n",
    "# remove column Unnamed which is unnecessary\n",
    "df = df.iloc[:,1:]\n",
    "# : means need all row form dataset, 1: means column from 1"
   ]
  },
  {
   "cell_type": "code",
   "execution_count": 8,
   "id": "a38545f9",
   "metadata": {},
   "outputs": [
    {
     "data": {
      "text/html": [
       "<div>\n",
       "<style scoped>\n",
       "    .dataframe tbody tr th:only-of-type {\n",
       "        vertical-align: middle;\n",
       "    }\n",
       "\n",
       "    .dataframe tbody tr th {\n",
       "        vertical-align: top;\n",
       "    }\n",
       "\n",
       "    .dataframe thead th {\n",
       "        text-align: right;\n",
       "    }\n",
       "</style>\n",
       "<table border=\"1\" class=\"dataframe\">\n",
       "  <thead>\n",
       "    <tr style=\"text-align: right;\">\n",
       "      <th></th>\n",
       "      <th>cgpa</th>\n",
       "      <th>iq</th>\n",
       "      <th>placement</th>\n",
       "    </tr>\n",
       "  </thead>\n",
       "  <tbody>\n",
       "    <tr>\n",
       "      <th>0</th>\n",
       "      <td>6.8</td>\n",
       "      <td>123.0</td>\n",
       "      <td>1</td>\n",
       "    </tr>\n",
       "    <tr>\n",
       "      <th>1</th>\n",
       "      <td>5.9</td>\n",
       "      <td>106.0</td>\n",
       "      <td>0</td>\n",
       "    </tr>\n",
       "    <tr>\n",
       "      <th>2</th>\n",
       "      <td>5.3</td>\n",
       "      <td>121.0</td>\n",
       "      <td>0</td>\n",
       "    </tr>\n",
       "    <tr>\n",
       "      <th>3</th>\n",
       "      <td>7.4</td>\n",
       "      <td>132.0</td>\n",
       "      <td>1</td>\n",
       "    </tr>\n",
       "    <tr>\n",
       "      <th>4</th>\n",
       "      <td>5.8</td>\n",
       "      <td>142.0</td>\n",
       "      <td>0</td>\n",
       "    </tr>\n",
       "  </tbody>\n",
       "</table>\n",
       "</div>"
      ],
      "text/plain": [
       "   cgpa     iq  placement\n",
       "0   6.8  123.0          1\n",
       "1   5.9  106.0          0\n",
       "2   5.3  121.0          0\n",
       "3   7.4  132.0          1\n",
       "4   5.8  142.0          0"
      ]
     },
     "execution_count": 8,
     "metadata": {},
     "output_type": "execute_result"
    }
   ],
   "source": [
    "df.head()"
   ]
  },
  {
   "cell_type": "code",
   "execution_count": 9,
   "id": "1bd10aa8",
   "metadata": {},
   "outputs": [
    {
     "data": {
      "text/plain": [
       "Text(0.5, 1.0, 'Placement Overview')"
      ]
     },
     "execution_count": 9,
     "metadata": {},
     "output_type": "execute_result"
    },
    {
     "data": {
      "image/png": "[encoded data removed]",
      "text/plain": [
       "<Figure size 640x480 with 1 Axes>"
      ]
     },
     "metadata": {},
     "output_type": "display_data"
    }
   ],
   "source": [
    "# EDA\n",
    "import matplotlib.pyplot as plt\n",
    "plt.scatter(df['cgpa'],df['iq'],c=df['placement'])\n",
    "plt.xlabel('CGPA')\n",
    "plt.ylabel('IQ')\n",
    "plt.title('Placement Overview')\n",
    "\n",
    "# yellow dots = individuals whose placement is done\n",
    "# violet dot = individuals whose placement is not done\n",
    "# c = color code for placement column"
   ]
  },
  {
   "cell_type": "code",
   "execution_count": 10,
   "id": "b4175a66",
   "metadata": {},
   "outputs": [],
   "source": [
    "# extract input and output columns\n",
    "# cgpa,iq = input columns = independent variables\n",
    "# placement = output column = dependent varibale\n",
    "X = df.iloc[:,0:2]\n",
    "y = df.iloc[:,-1] # -1 means last column "
   ]
  },
  {
   "cell_type": "code",
   "execution_count": 11,
   "id": "336d2301",
   "metadata": {},
   "outputs": [
    {
     "data": {
      "text/html": [
       "<div>\n",
       "<style scoped>\n",
       "    .dataframe tbody tr th:only-of-type {\n",
       "        vertical-align: middle;\n",
       "    }\n",
       "\n",
       "    .dataframe tbody tr th {\n",
       "        vertical-align: top;\n",
       "    }\n",
       "\n",
       "    .dataframe thead th {\n",
       "        text-align: right;\n",
       "    }\n",
       "</style>\n",
       "<table border=\"1\" class=\"dataframe\">\n",
       "  <thead>\n",
       "    <tr style=\"text-align: right;\">\n",
       "      <th></th>\n",
       "      <th>cgpa</th>\n",
       "      <th>iq</th>\n",
       "    </tr>\n",
       "  </thead>\n",
       "  <tbody>\n",
       "    <tr>\n",
       "      <th>0</th>\n",
       "      <td>6.8</td>\n",
       "      <td>123.0</td>\n",
       "    </tr>\n",
       "    <tr>\n",
       "      <th>1</th>\n",
       "      <td>5.9</td>\n",
       "      <td>106.0</td>\n",
       "    </tr>\n",
       "    <tr>\n",
       "      <th>2</th>\n",
       "      <td>5.3</td>\n",
       "      <td>121.0</td>\n",
       "    </tr>\n",
       "    <tr>\n",
       "      <th>3</th>\n",
       "      <td>7.4</td>\n",
       "      <td>132.0</td>\n",
       "    </tr>\n",
       "    <tr>\n",
       "      <th>4</th>\n",
       "      <td>5.8</td>\n",
       "      <td>142.0</td>\n",
       "    </tr>\n",
       "    <tr>\n",
       "      <th>...</th>\n",
       "      <td>...</td>\n",
       "      <td>...</td>\n",
       "    </tr>\n",
       "    <tr>\n",
       "      <th>95</th>\n",
       "      <td>4.3</td>\n",
       "      <td>200.0</td>\n",
       "    </tr>\n",
       "    <tr>\n",
       "      <th>96</th>\n",
       "      <td>4.4</td>\n",
       "      <td>42.0</td>\n",
       "    </tr>\n",
       "    <tr>\n",
       "      <th>97</th>\n",
       "      <td>6.7</td>\n",
       "      <td>182.0</td>\n",
       "    </tr>\n",
       "    <tr>\n",
       "      <th>98</th>\n",
       "      <td>6.3</td>\n",
       "      <td>103.0</td>\n",
       "    </tr>\n",
       "    <tr>\n",
       "      <th>99</th>\n",
       "      <td>6.2</td>\n",
       "      <td>113.0</td>\n",
       "    </tr>\n",
       "  </tbody>\n",
       "</table>\n",
       "<p>100 rows × 2 columns</p>\n",
       "</div>"
      ],
      "text/plain": [
       "    cgpa     iq\n",
       "0    6.8  123.0\n",
       "1    5.9  106.0\n",
       "2    5.3  121.0\n",
       "3    7.4  132.0\n",
       "4    5.8  142.0\n",
       "..   ...    ...\n",
       "95   4.3  200.0\n",
       "96   4.4   42.0\n",
       "97   6.7  182.0\n",
       "98   6.3  103.0\n",
       "99   6.2  113.0\n",
       "\n",
       "[100 rows x 2 columns]"
      ]
     },
     "execution_count": 11,
     "metadata": {},
     "output_type": "execute_result"
    }
   ],
   "source": [
    "X"
   ]
  },
  {
   "cell_type": "code",
   "execution_count": 12,
   "id": "0cb585d6",
   "metadata": {
    "scrolled": true
   },
   "outputs": [
    {
     "data": {
      "text/plain": [
       "0     1\n",
       "1     0\n",
       "2     0\n",
       "3     1\n",
       "4     0\n",
       "     ..\n",
       "95    0\n",
       "96    0\n",
       "97    1\n",
       "98    1\n",
       "99    1\n",
       "Name: placement, Length: 100, dtype: int64"
      ]
     },
     "execution_count": 12,
     "metadata": {},
     "output_type": "execute_result"
    }
   ],
   "source": [
    "y"
   ]
  },
  {
   "cell_type": "code",
   "execution_count": 13,
   "id": "131f8bd9",
   "metadata": {},
   "outputs": [
    {
     "data": {
      "text/plain": [
       "(100, 2)"
      ]
     },
     "execution_count": 13,
     "metadata": {},
     "output_type": "execute_result"
    }
   ],
   "source": [
    "X.shape # 2D Tensor"
   ]
  },
  {
   "cell_type": "code",
   "execution_count": 14,
   "id": "0d047f39",
   "metadata": {},
   "outputs": [
    {
     "data": {
      "text/plain": [
       "(100,)"
      ]
     },
     "execution_count": 14,
     "metadata": {},
     "output_type": "execute_result"
    }
   ],
   "source": [
    "y.shape # 1D Tensor"
   ]
  },
  {
   "cell_type": "code",
   "execution_count": 15,
   "id": "ed778a51",
   "metadata": {},
   "outputs": [],
   "source": [
    "from sklearn.model_selection import train_test_split\n",
    "# we have to give three things in pout train trst split \n",
    "# 1. Independent variables = X here\n",
    "# 2. Dependent Variables = y here\n",
    "# 3. test_size = how much data give to train and to test, 0.1 = 10% = test_data, 90% train\n",
    "# it give us four dataset \n",
    "# 1. X_train\n",
    "# 2. X_test\n",
    "# 3. y_train\n",
    "# 4. y_test\n",
    "X_train,X_test,y_train,y_test = train_test_split(X,y,test_size=0.1)\n"
   ]
  },
  {
   "cell_type": "code",
   "execution_count": 16,
   "id": "a60c503d",
   "metadata": {},
   "outputs": [
    {
     "data": {
      "text/html": [
       "<div>\n",
       "<style scoped>\n",
       "    .dataframe tbody tr th:only-of-type {\n",
       "        vertical-align: middle;\n",
       "    }\n",
       "\n",
       "    .dataframe tbody tr th {\n",
       "        vertical-align: top;\n",
       "    }\n",
       "\n",
       "    .dataframe thead th {\n",
       "        text-align: right;\n",
       "    }\n",
       "</style>\n",
       "<table border=\"1\" class=\"dataframe\">\n",
       "  <thead>\n",
       "    <tr style=\"text-align: right;\">\n",
       "      <th></th>\n",
       "      <th>cgpa</th>\n",
       "      <th>iq</th>\n",
       "    </tr>\n",
       "  </thead>\n",
       "  <tbody>\n",
       "    <tr>\n",
       "      <th>65</th>\n",
       "      <td>8.1</td>\n",
       "      <td>166.0</td>\n",
       "    </tr>\n",
       "    <tr>\n",
       "      <th>20</th>\n",
       "      <td>6.6</td>\n",
       "      <td>120.0</td>\n",
       "    </tr>\n",
       "    <tr>\n",
       "      <th>95</th>\n",
       "      <td>4.3</td>\n",
       "      <td>200.0</td>\n",
       "    </tr>\n",
       "    <tr>\n",
       "      <th>45</th>\n",
       "      <td>6.0</td>\n",
       "      <td>66.0</td>\n",
       "    </tr>\n",
       "    <tr>\n",
       "      <th>42</th>\n",
       "      <td>7.6</td>\n",
       "      <td>89.0</td>\n",
       "    </tr>\n",
       "    <tr>\n",
       "      <th>...</th>\n",
       "      <td>...</td>\n",
       "      <td>...</td>\n",
       "    </tr>\n",
       "    <tr>\n",
       "      <th>32</th>\n",
       "      <td>7.0</td>\n",
       "      <td>139.0</td>\n",
       "    </tr>\n",
       "    <tr>\n",
       "      <th>64</th>\n",
       "      <td>7.0</td>\n",
       "      <td>64.0</td>\n",
       "    </tr>\n",
       "    <tr>\n",
       "      <th>9</th>\n",
       "      <td>5.1</td>\n",
       "      <td>66.0</td>\n",
       "    </tr>\n",
       "    <tr>\n",
       "      <th>99</th>\n",
       "      <td>6.2</td>\n",
       "      <td>113.0</td>\n",
       "    </tr>\n",
       "    <tr>\n",
       "      <th>21</th>\n",
       "      <td>7.1</td>\n",
       "      <td>151.0</td>\n",
       "    </tr>\n",
       "  </tbody>\n",
       "</table>\n",
       "<p>90 rows × 2 columns</p>\n",
       "</div>"
      ],
      "text/plain": [
       "    cgpa     iq\n",
       "65   8.1  166.0\n",
       "20   6.6  120.0\n",
       "95   4.3  200.0\n",
       "45   6.0   66.0\n",
       "42   7.6   89.0\n",
       "..   ...    ...\n",
       "32   7.0  139.0\n",
       "64   7.0   64.0\n",
       "9    5.1   66.0\n",
       "99   6.2  113.0\n",
       "21   7.1  151.0\n",
       "\n",
       "[90 rows x 2 columns]"
      ]
     },
     "execution_count": 16,
     "metadata": {},
     "output_type": "execute_result"
    }
   ],
   "source": [
    "X_train"
   ]
  },
  {
   "cell_type": "code",
   "execution_count": 17,
   "id": "59d2d1dc",
   "metadata": {},
   "outputs": [
    {
     "data": {
      "text/html": [
       "<div>\n",
       "<style scoped>\n",
       "    .dataframe tbody tr th:only-of-type {\n",
       "        vertical-align: middle;\n",
       "    }\n",
       "\n",
       "    .dataframe tbody tr th {\n",
       "        vertical-align: top;\n",
       "    }\n",
       "\n",
       "    .dataframe thead th {\n",
       "        text-align: right;\n",
       "    }\n",
       "</style>\n",
       "<table border=\"1\" class=\"dataframe\">\n",
       "  <thead>\n",
       "    <tr style=\"text-align: right;\">\n",
       "      <th></th>\n",
       "      <th>cgpa</th>\n",
       "      <th>iq</th>\n",
       "    </tr>\n",
       "  </thead>\n",
       "  <tbody>\n",
       "    <tr>\n",
       "      <th>14</th>\n",
       "      <td>6.1</td>\n",
       "      <td>103.0</td>\n",
       "    </tr>\n",
       "    <tr>\n",
       "      <th>5</th>\n",
       "      <td>7.1</td>\n",
       "      <td>48.0</td>\n",
       "    </tr>\n",
       "    <tr>\n",
       "      <th>6</th>\n",
       "      <td>5.7</td>\n",
       "      <td>143.0</td>\n",
       "    </tr>\n",
       "    <tr>\n",
       "      <th>24</th>\n",
       "      <td>4.7</td>\n",
       "      <td>121.0</td>\n",
       "    </tr>\n",
       "    <tr>\n",
       "      <th>89</th>\n",
       "      <td>4.9</td>\n",
       "      <td>151.0</td>\n",
       "    </tr>\n",
       "    <tr>\n",
       "      <th>73</th>\n",
       "      <td>4.9</td>\n",
       "      <td>61.0</td>\n",
       "    </tr>\n",
       "    <tr>\n",
       "      <th>27</th>\n",
       "      <td>6.0</td>\n",
       "      <td>124.0</td>\n",
       "    </tr>\n",
       "    <tr>\n",
       "      <th>87</th>\n",
       "      <td>5.7</td>\n",
       "      <td>132.0</td>\n",
       "    </tr>\n",
       "    <tr>\n",
       "      <th>3</th>\n",
       "      <td>7.4</td>\n",
       "      <td>132.0</td>\n",
       "    </tr>\n",
       "    <tr>\n",
       "      <th>78</th>\n",
       "      <td>6.1</td>\n",
       "      <td>81.0</td>\n",
       "    </tr>\n",
       "  </tbody>\n",
       "</table>\n",
       "</div>"
      ],
      "text/plain": [
       "    cgpa     iq\n",
       "14   6.1  103.0\n",
       "5    7.1   48.0\n",
       "6    5.7  143.0\n",
       "24   4.7  121.0\n",
       "89   4.9  151.0\n",
       "73   4.9   61.0\n",
       "27   6.0  124.0\n",
       "87   5.7  132.0\n",
       "3    7.4  132.0\n",
       "78   6.1   81.0"
      ]
     },
     "execution_count": 17,
     "metadata": {},
     "output_type": "execute_result"
    }
   ],
   "source": [
    "X_test"
   ]
  },
  {
   "cell_type": "code",
   "execution_count": 18,
   "id": "70dae1d6",
   "metadata": {},
   "outputs": [
    {
     "data": {
      "text/plain": [
       "65    1\n",
       "20    1\n",
       "95    0\n",
       "45    1\n",
       "42    1\n",
       "     ..\n",
       "32    1\n",
       "64    1\n",
       "9     0\n",
       "99    1\n",
       "21    1\n",
       "Name: placement, Length: 90, dtype: int64"
      ]
     },
     "execution_count": 18,
     "metadata": {},
     "output_type": "execute_result"
    }
   ],
   "source": [
    "y_train"
   ]
  },
  {
   "cell_type": "code",
   "execution_count": 19,
   "id": "f6e0a59a",
   "metadata": {},
   "outputs": [
    {
     "data": {
      "text/plain": [
       "14    0\n",
       "5     1\n",
       "6     0\n",
       "24    0\n",
       "89    0\n",
       "73    0\n",
       "27    1\n",
       "87    1\n",
       "3     1\n",
       "78    0\n",
       "Name: placement, dtype: int64"
      ]
     },
     "execution_count": 19,
     "metadata": {},
     "output_type": "execute_result"
    }
   ],
   "source": [
    "y_test"
   ]
  },
  {
   "cell_type": "code",
   "execution_count": 20,
   "id": "62a49e52",
   "metadata": {},
   "outputs": [],
   "source": [
    "# Scaling the values between -1 and +1\n",
    "from sklearn.preprocessing import StandardScaler"
   ]
  },
  {
   "cell_type": "code",
   "execution_count": 21,
   "id": "80681909",
   "metadata": {},
   "outputs": [],
   "source": [
    "scaler = StandardScaler()"
   ]
  },
  {
   "cell_type": "code",
   "execution_count": 22,
   "id": "eea04bfb",
   "metadata": {
    "scrolled": true
   },
   "outputs": [
    {
     "data": {
      "text/plain": [
       "array([[ 1.79885986,  1.01955046],\n",
       "       [ 0.51055174, -0.12806751],\n",
       "       [-1.46485405,  1.86778984],\n",
       "       [-0.00477151, -1.47527123],\n",
       "       [ 1.36942382, -0.90146224],\n",
       "       [ 0.68232615, -0.87651402],\n",
       "       [-1.20719242,  0.52058613],\n",
       "       [-0.9495308 ,  0.74512008],\n",
       "       [-0.00477151,  0.59543078],\n",
       "       [-0.86364359, -0.17796395],\n",
       "       [-0.77775638,  0.07151822],\n",
       "       [ 1.28353661,  0.12141466],\n",
       "       [-0.17654593,  0.42079326],\n",
       "       [ 0.59643894,  0.72017186],\n",
       "       [-1.80840288, -0.4024979 ],\n",
       "       [-1.37896684,  0.59543078],\n",
       "       [ 1.28353661, -1.60001231],\n",
       "       [ 0.85410057,  1.24408442],\n",
       "       [ 1.28353661,  0.81996473],\n",
       "       [-2.32372613,  1.44367015],\n",
       "       [ 0.68232615, -0.32765325],\n",
       "       [ 1.11176219,  0.29605217],\n",
       "       [ 0.42466453,  0.12141466],\n",
       "       [-1.72251567, -0.62703185],\n",
       "       [ 0.25289011,  0.04657   ],\n",
       "       [ 0.68232615, -0.05322286],\n",
       "       [ 0.42466453, -0.87651402],\n",
       "       [-0.69186918,  0.17131109],\n",
       "       [ 0.0811157 ,  0.17131109],\n",
       "       [-0.17654593,  1.01955046],\n",
       "       [-1.12130522, -0.95135867],\n",
       "       [-0.52009476,  0.34594861],\n",
       "       [-1.03541801,  1.09439511],\n",
       "       [-0.00477151, -0.57713542],\n",
       "       [ 1.54119823, -0.27775681],\n",
       "       [ 0.85410057, -0.32765325],\n",
       "       [-1.03541801, -0.32765325],\n",
       "       [ 0.42466453,  0.86986116],\n",
       "       [ 0.25289011,  0.07151822],\n",
       "       [-0.60598197, -0.1031193 ],\n",
       "       [-0.69186918, -0.87651402],\n",
       "       [ 0.33877732, -0.22786038],\n",
       "       [-0.09065872, -0.47734255],\n",
       "       [ 0.59643894,  1.41872193],\n",
       "       [ 0.0811157 ,  0.77006829],\n",
       "       [-0.52009476,  0.24615574],\n",
       "       [-0.26243314,  1.09439511],\n",
       "       [ 1.11176219, -1.8744427 ],\n",
       "       [ 0.68232615,  0.39584504],\n",
       "       [ 0.85410057,  1.84284162],\n",
       "       [ 0.25289011, -0.5521872 ],\n",
       "       [-0.9495308 ,  1.76799697],\n",
       "       [-0.77775638,  1.26903263],\n",
       "       [-0.69186918,  0.89480938],\n",
       "       [ 1.11176219, -0.22786038],\n",
       "       [ 0.33877732,  0.39584504],\n",
       "       [-0.00477151, -1.99918378],\n",
       "       [-0.9495308 , -0.12806751],\n",
       "       [ 0.76821336, -0.72682472],\n",
       "       [-0.69186918, -0.37754968],\n",
       "       [-1.03541801,  0.39584504],\n",
       "       [ 1.79885986,  0.59543078],\n",
       "       [-0.69186918,  2.46654704],\n",
       "       [-0.86364359, -1.55011588],\n",
       "       [ 0.0811157 , -1.50021944],\n",
       "       [ 1.71297265, -1.15094441],\n",
       "       [-2.15195171,  2.691081  ],\n",
       "       [-0.9495308 ,  0.22120752],\n",
       "       [-0.26243314,  0.37089682],\n",
       "       [-0.60598197, -0.27775681],\n",
       "       [ 0.76821336,  0.34594861],\n",
       "       [-1.72251567, -1.25073727],\n",
       "       [ 1.97063427,  1.0694469 ],\n",
       "       [ 0.42466453, -2.19876952],\n",
       "       [-1.03541801,  0.94470581],\n",
       "       [ 0.51055174,  0.32100039],\n",
       "       [ 1.36942382,  0.07151822],\n",
       "       [ 0.76821336,  0.32100039],\n",
       "       [-0.52009476, -0.45239433],\n",
       "       [ 2.14240869, -0.12806751],\n",
       "       [-1.37896684, -2.07402843],\n",
       "       [-0.86364359, -0.8515658 ],\n",
       "       [-1.12130522, -1.82454626],\n",
       "       [ 1.11176219, -0.97630689],\n",
       "       [-0.52009476, -0.27775681],\n",
       "       [ 0.85410057,  0.34594861],\n",
       "       [ 0.85410057, -1.52516766],\n",
       "       [-0.77775638, -1.47527123],\n",
       "       [ 0.1670029 , -0.30270503],\n",
       "       [ 0.93998778,  0.64532721]])"
      ]
     },
     "execution_count": 22,
     "metadata": {},
     "output_type": "execute_result"
    }
   ],
   "source": [
    "X_train = scaler.fit_transform(X_train)\n",
    "X_train"
   ]
  },
  {
   "cell_type": "code",
   "execution_count": 23,
   "id": "696cc5fc",
   "metadata": {},
   "outputs": [
    {
     "data": {
      "text/plain": [
       "array([[ 0.28120709, -0.19731493],\n",
       "       [ 1.45290332, -1.84160599],\n",
       "       [-0.1874714 ,  0.99853312],\n",
       "       [-1.35916762,  0.34081669],\n",
       "       [-1.12482838,  1.23770273],\n",
       "       [-1.12482838, -1.45295538],\n",
       "       [ 0.16403747,  0.4305053 ],\n",
       "       [-0.1874714 ,  0.66967491],\n",
       "       [ 1.80441219,  0.66967491],\n",
       "       [ 0.28120709, -0.85503135]])"
      ]
     },
     "execution_count": 23,
     "metadata": {},
     "output_type": "execute_result"
    }
   ],
   "source": [
    "X_test = scaler.fit_transform(X_test)\n",
    "X_test"
   ]
  },
  {
   "cell_type": "code",
   "execution_count": 24,
   "id": "54a82c96",
   "metadata": {},
   "outputs": [],
   "source": [
    "from sklearn.linear_model import LogisticRegression"
   ]
  },
  {
   "cell_type": "code",
   "execution_count": 25,
   "id": "36fe1124",
   "metadata": {},
   "outputs": [],
   "source": [
    "clf = LogisticRegression()"
   ]
  },
  {
   "cell_type": "code",
   "execution_count": 26,
   "id": "33d4d520",
   "metadata": {},
   "outputs": [
    {
     "data": {
      "text/plain": [
       "LogisticRegression()"
      ]
     },
     "execution_count": 26,
     "metadata": {},
     "output_type": "execute_result"
    }
   ],
   "source": [
    "# fit is the method which is used to train the model\n",
    "# Model training \n",
    "clf.fit(X_train,y_train)"
   ]
  },
  {
   "cell_type": "code",
   "execution_count": 27,
   "id": "b15f6921",
   "metadata": {},
   "outputs": [
    {
     "data": {
      "text/plain": [
       "array([1, 1, 0, 0, 0, 0, 1, 0, 1, 1], dtype=int64)"
      ]
     },
     "execution_count": 27,
     "metadata": {},
     "output_type": "execute_result"
    }
   ],
   "source": [
    "# evaluate the model\n",
    "# here we give our test data to rain the model on new data\n",
    "# and compare the result with y_test values of 0 and 1\n",
    "# here we see 15 -> 0 and our model also says 0 so correct prediction but incorrect for 57\n",
    "y_pred = clf.predict(X_test)\n",
    "y_pred"
   ]
  },
  {
   "cell_type": "code",
   "execution_count": 28,
   "id": "018ebd9b",
   "metadata": {},
   "outputs": [
    {
     "data": {
      "text/plain": [
       "14    0\n",
       "5     1\n",
       "6     0\n",
       "24    0\n",
       "89    0\n",
       "73    0\n",
       "27    1\n",
       "87    1\n",
       "3     1\n",
       "78    0\n",
       "Name: placement, dtype: int64"
      ]
     },
     "execution_count": 28,
     "metadata": {},
     "output_type": "execute_result"
    }
   ],
   "source": [
    "y_test"
   ]
  },
  {
   "cell_type": "code",
   "execution_count": 29,
   "id": "ff0df6b4",
   "metadata": {},
   "outputs": [],
   "source": [
    "from sklearn.metrics import accuracy_score"
   ]
  },
  {
   "cell_type": "code",
   "execution_count": 30,
   "id": "41833662",
   "metadata": {},
   "outputs": [
    {
     "data": {
      "text/plain": [
       "0.7"
      ]
     },
     "execution_count": 30,
     "metadata": {},
     "output_type": "execute_result"
    }
   ],
   "source": [
    "# give correct data and predicted data as perimeter \n",
    "accuracy_score(y_test,y_pred)\n",
    "# our model predict 9/10 correct"
   ]
  },
  {
   "cell_type": "code",
   "execution_count": 31,
   "id": "fc619ae9",
   "metadata": {},
   "outputs": [
    {
     "data": {
      "text/plain": [
       "<AxesSubplot:>"
      ]
     },
     "execution_count": 31,
     "metadata": {},
     "output_type": "execute_result"
    },
    {
     "data": {
      "image/png": "[encoded data removed]",
      "text/plain": [
       "<Figure size 640x480 with 1 Axes>"
      ]
     },
     "metadata": {},
     "output_type": "display_data"
    }
   ],
   "source": [
    "# how to plot decision boundary\n",
    "from mlxtend.plotting import plot_decision_regions\n",
    "plot_decision_regions(X_train,y_train.values,clf=clf,legend = 2)"
   ]
  },
  {
   "cell_type": "code",
   "execution_count": 32,
   "id": "71d427ae",
   "metadata": {},
   "outputs": [],
   "source": [
    "# it convert your model in a binary file which you can use in another environment\n",
    "import pickle"
   ]
  },
  {
   "cell_type": "code",
   "execution_count": 33,
   "id": "12b658b7",
   "metadata": {},
   "outputs": [],
   "source": [
    "# wb = write in binary mode\n",
    "# now we have a model name model.pkl as a file in 100 days folder we take this file and deploy on our website.\n",
    "pickle.dump(clf,open('model.pkl','wb'))"
   ]
  },
  {
   "cell_type": "code",
   "execution_count": null,
   "id": "5cb46f5e",
   "metadata": {},
   "outputs": [],
   "source": [
    "# take services from - to deploy your ml model\n",
    "# 1. Heroku ( Host 5 applications free)\n",
    "# 2. AWS\n",
    "# 3. GCP (Google cloud platform)"
   ]
  }
 ],
 "metadata": {
  "kernelspec": {
   "display_name": "Python 3 (ipykernel)",
   "language": "python",
   "name": "python3"
  },
  "language_info": {
   "codemirror_mode": {
    "name": "ipython",
    "version": 3
   },
   "file_extension": ".py",
   "mimetype": "text/x-python",
   "name": "python",
   "nbconvert_exporter": "python",
   "pygments_lexer": "ipython3",
   "version": "3.9.13"
  }
 },
 "nbformat": 4,
 "nbformat_minor": 5
}
